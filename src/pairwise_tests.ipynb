{
 "metadata": {
  "language_info": {
   "codemirror_mode": {
    "name": "ipython",
    "version": 3
   },
   "file_extension": ".py",
   "mimetype": "text/x-python",
   "name": "python",
   "nbconvert_exporter": "python",
   "pygments_lexer": "ipython3",
   "version": "3.9.1"
  },
  "orig_nbformat": 2,
  "kernelspec": {
   "name": "python391jvsc74a57bd0aee8b7b246df8f9039afb4144a1f6fd8d2ca17a180786b69acc140d282b71a49",
   "display_name": "Python 3.9.1 64-bit"
  },
  "metadata": {
   "interpreter": {
    "hash": "aee8b7b246df8f9039afb4144a1f6fd8d2ca17a180786b69acc140d282b71a49"
   }
  }
 },
 "nbformat": 4,
 "nbformat_minor": 2,
 "cells": [
  {
   "cell_type": "code",
   "execution_count": null,
   "metadata": {},
   "outputs": [],
   "source": [
    "import os\n",
    "import pairwise_fte\n",
    "\n",
    "%load_ext autoreload\n",
    "%autoreload 2\n",
    "\n",
    "%matplotlib inline\n",
    "\n",
    "root_dir = os.path.join(\"..\", \"data\")"
   ]
  },
  {
   "cell_type": "code",
   "execution_count": null,
   "metadata": {},
   "outputs": [],
   "source": [
    "# Generate the pose functions if this has not been done before (note this should only be performed once). It will be saved in the root_dir.\n",
    "pairwise_fte.create_pose_functions(root_dir)"
   ]
  },
  {
   "cell_type": "code",
   "execution_count": 10,
   "metadata": {},
   "outputs": [],
   "source": [
    "# Configurations for the optimisation.\n",
    "data_dir = os.path.join(root_dir, \"2017_08_29\", \"top\", \"jules\", \"run1_1\")\n",
    "start_frame = 20\n",
    "end_frame = 120\n",
    "dlc_thresh = 0.5"
   ]
  },
  {
   "cell_type": "code",
   "execution_count": 11,
   "metadata": {},
   "outputs": [
    {
     "output_type": "stream",
     "name": "stderr",
     "text": [
      "2021-04-26T14:57:37.622 | INFO | pairwise_fte: Prepare data - Start\n",
      "2021-04-26T14:57:37.652 | INFO | pairwise_fte: Load H5 2D DLC prediction data\n",
      "2021-04-26T14:57:37.872 | INFO | pairwise_fte: Estimate the initial trajectory\n",
      "2021-04-26T14:57:37.876 | INFO | pairwise_fte: Prepare data - End\n",
      "2021-04-26T14:57:37.876 | INFO | pairwise_fte: Setup optimisation - Start\n",
      "2021-04-26T14:57:38.302 | INFO | pairwise_fte: Measurement initialisation...Done\n",
      "2021-04-26T14:57:39.345 | INFO | pairwise_fte: Variable initialisation...Done\n",
      "2021-04-26T14:58:55.562 | INFO | pairwise_fte: Constaint initialisation...Done\n",
      "2021-04-26T14:58:58.132 | INFO | pairwise_fte: Objective initialisation...Done\n",
      "2021-04-26T14:58:58.133 | INFO | pairwise_fte: Setup optimisation - End\n",
      "2021-04-26T14:58:58.134 | INFO | pairwise_fte: Initialisation took 80.51s\n",
      "2021-04-26T15:09:46.064 | INFO | pairwise_fte: Optimisation solver took 647.93s\n",
      "2021-04-26T15:09:46.065 | INFO | pairwise_fte: Generate outputs...\n",
      "2021-04-26T15:09:55.216 | INFO | pairwise_fte: Done\n"
     ]
    }
   ],
   "source": [
    "# Run the optimisation\n",
    "pairwise_fte.run(data_dir, start_frame, end_frame, dlc_thresh)"
   ]
  },
  {
   "cell_type": "code",
   "execution_count": 13,
   "metadata": {},
   "outputs": [],
   "source": [
    "# Compare the optimisation with previous results i.e. compare the output pickle file fte.pickle. This is a visual inspection.abs\n",
    "orig_file = os.path.join(data_dir, \"fte_pw_copy\", \"fte.pickle\")\n",
    "pw_file = os.path.join(data_dir, \"fte_pw\", \"fte.pickle\")\n",
    "pairwise_fte.compare(orig_file, pw_file)"
   ]
  },
  {
   "cell_type": "code",
   "execution_count": null,
   "metadata": {},
   "outputs": [],
   "source": [
    "# DEBUB purposes - if you want to display particular frames to inspect the measurements that are incorporated in the optimisation process.\n",
    "# The camera to use.\n",
    "cam_num = 1\n",
    "# The measurements to display 1 - base prediction, 2 - 3 pairwise measurements. Max is 3.\n",
    "pw_values = (1, 2, 3)\n",
    "# Frame number to display.\n",
    "frame_num = 40\n",
    "pairwise_fte.display_test_image(data_dir, cam_num, pw_values, frame_num)"
   ]
  },
  {
   "cell_type": "code",
   "execution_count": null,
   "metadata": {},
   "outputs": [],
   "source": []
  }
 ]
}