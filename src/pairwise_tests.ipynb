{
 "cells": [
  {
   "cell_type": "code",
   "execution_count": 41,
   "metadata": {},
   "outputs": [
    {
     "name": "stdout",
     "output_type": "stream",
     "text": [
      "The autoreload extension is already loaded. To reload it, use:\n",
      "  %reload_ext autoreload\n"
     ]
    }
   ],
   "source": [
    "import os\n",
    "from glob import glob\n",
    "\n",
    "import pairwise_fte\n",
    "from py_utils import data_ops\n",
    "import evaluate_fte\n",
    "from lib import app\n",
    "from py_utils import log\n",
    "\n",
    "%load_ext autoreload\n",
    "%autoreload 2\n",
    "\n",
    "%matplotlib inline\n",
    "\n",
    "# root_dir = os.path.join(\"..\", \"data\")\n",
    "root_dir = os.path.join(\"/Users/zico/OneDrive - University of Cape Town/CheetahReconstructionResults/cheetah_videos\")\n",
    "# If you are running the code remotely on the Linux i9.\n",
    "# root_dir = os.path.join(\"/\",\"data\", \"dlc\", \"to_analyse\", \"cheetah_videos\")\\\n",
    "logger = log.logger(\"main\")"
   ]
  },
  {
   "cell_type": "code",
   "execution_count": null,
   "metadata": {},
   "outputs": [],
   "source": [
    "# Generate the pose functions if this has not been done before (note this should only be performed once). It will be saved in the root_dir.\n",
    "functions = pairwise_fte.create_pose_functions(root_dir)"
   ]
  },
  {
   "cell_type": "code",
   "execution_count": 46,
   "metadata": {},
   "outputs": [],
   "source": [
    "# Configurations for the optimisation. 2017_08_29/top/phantom/run1_1 2017_08_29/top/phantom/flick1_1\n",
    "data_path = os.path.join(\"2017_12_16\", \"top\", \"phantom\", \"flick1\")\n",
    "start_frame = 1\n",
    "end_frame = 110\n",
    "dlc_thresh = 0.1"
   ]
  },
  {
   "cell_type": "code",
   "execution_count": 48,
   "metadata": {
    "tags": [
     "outputPrepend"
    ]
   },
   "outputs": [
    {
     "name": "stderr",
     "output_type": "stream",
     "text": [
      "2021-06-03T13:26:24.115 | INFO | pairwise_fte: Prepare data - Start\n"
     ]
    },
    {
     "name": "stdout",
     "output_type": "stream",
     "text": [
      "Loaded extrinsics from /Users/zico/OneDrive - University of Cape Town/CheetahReconstructionResults/cheetah_videos/2017_12_16/top/extrinsic_calib/6_cam_scene_sba.json\n",
      "\n"
     ]
    },
    {
     "name": "stderr",
     "output_type": "stream",
     "text": [
      "2021-06-03T13:26:25.346 | INFO | pairwise_fte: Load H5 2D DLC prediction data\n"
     ]
    },
    {
     "name": "stdout",
     "output_type": "stream",
     "text": [
      "Found 4756 pairwise points between camera 0 and 1\n",
      "Found 4743 pairwise points between camera 1 and 2\n",
      "Found 3802 pairwise points between camera 2 and 3\n",
      "Found 3615 pairwise points between camera 3 and 4\n",
      "Found 3522 pairwise points between camera 4 and 5\n",
      "Found 4952 pairwise points between camera 5 and 0\n"
     ]
    },
    {
     "name": "stderr",
     "output_type": "stream",
     "text": [
      "2021-06-03T13:26:26.022 | INFO | pairwise_fte: Estimate the initial trajectory\n"
     ]
    },
    {
     "name": "stdout",
     "output_type": "stream",
     "text": [
      "\n"
     ]
    },
    {
     "name": "stderr",
     "output_type": "stream",
     "text": [
      "2021-06-03T13:26:27.010 | INFO | pairwise_fte: Prepare data - End\n",
      "2021-06-03T13:26:27.014 | INFO | pairwise_fte: Start frame: 0, End frame: 110, Frame rate: 90\n",
      "2021-06-03T13:26:27.018 | INFO | pairwise_fte: Setup optimisation - Start\n",
      "2021-06-03T13:26:27.518 | INFO | pairwise_fte: Measurement initialisation...Done\n",
      "2021-06-03T13:26:30.385 | INFO | pairwise_fte: Variable initialisation...Done\n",
      "2021-06-03T13:26:54.155 | INFO | pairwise_fte: Constaint initialisation...Done\n",
      "2021-06-03T13:26:54.919 | INFO | pairwise_fte: Objective initialisation...Done\n",
      "2021-06-03T13:26:54.922 | INFO | pairwise_fte: Setup optimisation - End\n",
      "2021-06-03T13:26:54.925 | INFO | pairwise_fte: Initialisation took 30.81s\n"
     ]
    },
    {
     "name": "stdout",
     "output_type": "stream",
     "text": [
      "Ipopt 3.13.3: print_level=5\n",
      "max_iter=1000\n",
      "max_cpu_time=10000\n",
      "Tol=0.1\n",
      "linear_solver=ma86\n",
      "option_file_name=/var/folders/_2/61j71l3s06zfdc543275_g8w0000gn/T/tmpgsyvj7u0_ipopt.opt\n",
      "\n",
      "Using option file \"/var/folders/_2/61j71l3s06zfdc543275_g8w0000gn/T/tmpgsyvj7u0_ipopt.opt\".\n",
      "\n",
      "\n",
      "******************************************************************************\n",
      "This program contains Ipopt, a library for large-scale nonlinear optimization.\n",
      " Ipopt is released as open source code under the Eclipse Public License (EPL).\n",
      "         For more information visit https://github.com/coin-or/Ipopt\n",
      "******************************************************************************\n",
      "\n",
      "This is Ipopt version 3.13.3, running with linear solver ma86.\n",
      "\n",
      "Number of nonzeros in equality constraint Jacobian...:   217505\n",
      "Number of nonzeros in inequality constraint Jacobian.:      220\n",
      "Number of nonzeros in Lagrangian Hessian.............:        0\n",
      "\n",
      "Total number of variables............................:    52780\n",
      "                     variables with only lower bounds:        0\n",
      "                variables with lower and upper bounds:        0\n",
      "                     variables with only upper bounds:        0\n",
      "Total number of equality constraints.................:    47715\n",
      "Total number of inequality constraints...............:      220\n",
      "        inequality constraints with only lower bounds:        0\n",
      "   inequality constraints with lower and upper bounds:        0\n",
      "        inequality constraints with only upper bounds:      220\n",
      "\n",
      "iter    objective    inf_pr   inf_du lg(mu)  ||d||  lg(rg) alpha_du alpha_pr  ls\n",
      "   0 -2.2089436e+00 2.28e+03 2.87e-02   0.0 0.00e+00    -  0.00e+00 0.00e+00   0\n",
      "   9  2.1040028e+02 1.02e+01 4.43e+03   0.1 3.15e+02  -7.8 4.33e-01 1.00e+00h  1\n",
      "  21  1.2672819e+02 5.46e+00 6.08e-01  -2.7 1.73e+02 -13.5 7.28e-01 1.00e+00h  1\n",
      "  32  1.0915513e+02 2.95e+00 1.56e+00  -1.7 3.62e+02 -18.8 2.09e-01 4.05e-01h  1\n",
      "  43  7.8752984e+01 2.76e+00 8.47e-01  -2.6 2.20e+02 -20.0 1.00e+00 4.59e-01h  1\n",
      "  54  7.0884404e+01 6.58e+00 9.93e-01  -3.0 2.83e+02 -20.0 1.55e-01 3.73e-01h  1\n",
      "  65  6.4386647e+01 7.05e+00 6.42e-01  -3.0 1.37e+02 -20.0 5.21e-01 6.14e-01h  1\n",
      "  77  6.1680228e+01 3.85e+00 1.81e-01  -3.1 2.04e+02 -20.0 5.75e-01 6.86e-01h  1\n",
      "  88  6.1074657e+01 5.22e+00 2.77e-01  -3.2 2.34e+02 -20.0 1.50e-01 9.93e-01h  1\n",
      "  99  5.9845624e+01 2.75e+00 1.68e-01  -3.0 8.50e+01 -20.0 7.95e-01 1.00e+00h  1\n",
      "iter    objective    inf_pr   inf_du lg(mu)  ||d||  lg(rg) alpha_du alpha_pr  ls\n",
      " 110  5.8965718e+01 6.57e+00 6.23e-01  -3.5 2.29e+02 -20.0 3.10e-01 1.00e+00h  1\n",
      " 122  5.7826268e+01 1.27e+00 1.67e-01  -3.9 1.10e+02 -20.0 2.92e-01 6.36e-01h  1\n",
      " 134  5.7667492e+01 1.12e+01 1.03e+00  -3.8 2.77e+02 -20.0 1.17e-01 3.74e-01h  1\n",
      " 146  5.6319415e+01 7.96e+00 1.54e+00  -2.8 3.98e+02 -20.0 2.23e-01 3.32e-01h  1\n",
      " 158  5.4725397e+01 4.82e-01 9.62e-01  -2.8 9.48e+01 -20.0 1.47e-01 9.85e-01f  1\n",
      " 170  5.3502568e+01 3.24e-01 1.44e-01  -3.5 6.61e+01 -20.0 1.00e+00 1.00e+00h  1\n",
      " 182  5.3044487e+01 6.69e+00 3.05e-01  -3.8 1.91e+02 -20.0 1.03e-02 4.07e-01h  1\n",
      " 194  5.2915715e+01 1.13e+00 5.20e-01  -3.5 1.78e+02 -20.0 1.58e-02 1.28e-01h  1\n",
      " 206  5.7079641e+01 4.57e-01 2.47e-01  -3.5 1.03e+02 -20.0 1.00e+00 1.00e+00h  1\n",
      " 218  5.5745921e+01 8.46e-01 4.48e-01  -3.5 5.90e+02 -20.0 4.57e-03 1.85e-01h  1\n",
      "iter    objective    inf_pr   inf_du lg(mu)  ||d||  lg(rg) alpha_du alpha_pr  ls\n",
      " 230  5.4990495e+01 1.65e+00 1.05e+00  -3.5 1.47e+02 -20.0 5.49e-02 2.32e-01h  1\n",
      " 241  5.2143833e+01 1.97e+00 1.92e-01  -3.3 1.55e+02 -20.0 3.36e-01 1.00e+00h  1\n",
      " 253  5.1648794e+01 3.49e-02 3.38e-02  -4.2 1.70e+01 -20.0 1.00e+00 9.93e-01h  1\n",
      " 265  5.1594745e+01 6.42e-03 4.43e-03  -5.1 9.78e+00 -20.0 1.00e+00 9.97e-01h  1\n",
      " 276  5.1785882e+01 5.80e-01 3.88e-02  -5.8 4.74e+02 -20.0 1.06e-01 3.89e-02h  1\n",
      " 287  5.1561909e+01 3.65e-04 1.37e-03  -7.0 3.39e+00 -20.0 1.00e+00 1.00e+00h  1\n",
      " 299  5.1556240e+01 9.20e-04 2.76e-03  -7.1 2.14e+00 -20.0 1.00e+00 1.00e+00h  1\n",
      " 310  5.1661768e+01 1.24e-01 6.26e-02  -6.6 1.89e+02 -20.0 2.45e-01 4.26e-01h  1\n",
      "In iteration 319, 1 Slack too small, adjusting variable bound\n",
      " 322  5.1685413e+01 2.49e+00 2.05e-01  -6.6 7.03e+01 -20.0 1.86e-02 1.60e-02h  1\n",
      " 334  5.1639897e+01 1.39e+00 1.48e-01  -6.6 7.30e+01 -20.0 3.49e-02 3.74e-02h  1\n",
      "iter    objective    inf_pr   inf_du lg(mu)  ||d||  lg(rg) alpha_du alpha_pr  ls\n",
      " 346  5.1531943e+01 2.95e-02 4.00e-02  -6.5 1.68e+01 -20.0 5.95e-01 6.06e-01h  1\n",
      " 358  5.1527549e+01 6.44e-04 5.09e-04  -7.5 5.11e+00 -20.0 1.00e+00 8.99e-01h  1\n",
      "\n",
      "Number of Iterations....: 360\n",
      "\n",
      "                                   (scaled)                 (unscaled)\n",
      "Objective...............:   5.1527453529347959e+01    5.1527453529347959e+01\n",
      "Dual infeasibility......:   4.9546625461328528e-04    4.9546625461328528e-04\n",
      "Constraint violation....:   1.0323295417743854e-05    1.2732063737530552e-05\n",
      "Complementarity.........:   4.3573333047524687e-09    4.3573333047524687e-09\n",
      "Overall NLP error.......:   4.9546625461328528e-04    4.9546625461328528e-04\n",
      "\n",
      "\n",
      "Number of objective function evaluations             = 361\n",
      "Number of objective gradient evaluations             = 361\n",
      "Number of equality constraint evaluations            = 361\n",
      "Number of inequality constraint evaluations          = 361\n",
      "Number of equality constraint Jacobian evaluations   = 361\n",
      "Number of inequality constraint Jacobian evaluations = 361\n",
      "Number of Lagrangian Hessian evaluations             = 0\n",
      "Total CPU secs in IPOPT (w/o function evaluations)   =    149.122\n",
      "Total CPU secs in NLP function evaluations           =    188.476\n",
      "\n",
      "\n",
      "Timing Statistics:\n",
      "\n",
      "OverallAlgorithm....................:    337.597 (sys:     27.193 wall:    330.907)\n",
      " PrintProblemStatistics.............:      0.000 (sys:      0.000 wall:      0.000)\n",
      " InitializeIterates.................:      2.470 (sys:      0.193 wall:      2.344)\n",
      " UpdateHessian......................:      0.693 (sys:      0.013 wall:      0.707)\n",
      " OutputIteration....................:      0.005 (sys:      0.001 wall:      0.006)\n",
      " UpdateBarrierParameter.............:     66.818 (sys:     12.751 wall:     63.047)\n",
      " ComputeSearchDirection.............:     78.883 (sys:     13.818 wall:     75.539)\n",
      " ComputeAcceptableTrialPoint........:    132.111 (sys:      0.169 wall:    132.356)\n",
      " AcceptTrialPoint...................:      0.013 (sys:      0.001 wall:      0.015)\n",
      " CheckConvergence...................:     56.602 (sys:      0.245 wall:     56.890)\n",
      "PDSystemSolverTotal.................:    145.586 (sys:     26.519 wall:    138.422)\n",
      " PDSystemSolverSolveOnce............:    144.254 (sys:     26.497 wall:    137.067)\n",
      " ComputeResiduals...................:      1.227 (sys:      0.011 wall:      1.238)\n",
      " StdAugSystemSolverMultiSolve.......:    140.922 (sys:     25.575 wall:    132.488)\n",
      " LinearSystemScaling................:      0.000 (sys:      0.000 wall:      0.000)\n",
      " LinearSystemSymbolicFactorization..:      0.028 (sys:      0.005 wall:      0.033)\n",
      " LinearSystemFactorization..........:    109.447 (sys:     19.294 wall:     98.185)\n",
      " LinearSystemBackSolve..............:     28.923 (sys:      4.251 wall:     29.719)\n",
      " LinearSystemStructureConverter.....:      0.231 (sys:      0.005 wall:      0.235)\n",
      "  LinearSystemStructureConverterInit:      0.015 (sys:      0.003 wall:      0.018)\n",
      "QualityFunctionSearch...............:      0.032 (sys:      0.013 wall:      0.045)\n",
      "TryCorrector........................:      0.000 (sys:      0.000 wall:      0.000)\n",
      "Task1...............................:      0.004 (sys:      0.003 wall:      0.006)\n",
      "Task2...............................:      0.005 (sys:      0.001 wall:      0.006)\n",
      "Task3...............................:      0.001 (sys:      0.001 wall:      0.003)\n",
      "Task4...............................:      0.000 (sys:      0.000 wall:      0.000)\n",
      "Task5...............................:      0.013 (sys:      0.001 wall:      0.015)\n",
      "Function Evaluations................:    188.476 (sys:      0.344 wall:    188.938)\n",
      " Objective function.................:     19.181 (sys:      0.022 wall:     19.216)\n",
      " Objective function gradient........:      8.887 (sys:      0.011 wall:      8.903)\n",
      " Equality constraints...............:    112.724 (sys:      0.101 wall:    112.889)\n",
      " Inequality constraints.............:      0.283 (sys:      0.001 wall:      0.284)\n",
      " Equality constraint Jacobian.......:     47.399 (sys:      0.208 wall:     47.646)\n",
      " Inequality constraint Jacobian.....:      0.001 (sys:      0.000 wall:      0.001)\n",
      " Lagrangian Hessian.................:      0.000 (sys:      0.000 wall:      0.000)\n",
      "\n",
      "EXIT: Optimal Solution Found.\n"
     ]
    },
    {
     "name": "stderr",
     "output_type": "stream",
     "text": [
      "2021-06-03T13:33:04.159 | INFO | pairwise_fte: Optimisation solver took 369.23s\n",
      "2021-06-03T13:33:04.163 | INFO | pairwise_fte: Generate outputs...\n"
     ]
    },
    {
     "name": "stdout",
     "output_type": "stream",
     "text": [
      "Saved /Users/zico/msc/dev/AcinoSet/data/2017_12_16/top/phantom/flick1/fte_pw/fte.pickle\n",
      "Saved /Users/zico/msc/dev/AcinoSet/data/2017_12_16/top/phantom/flick1/fte_pw/cam*_fte.h5\n",
      "Saved /Users/zico/msc/dev/AcinoSet/data/2017_12_16/top/phantom/flick1/fte_pw/cam*_fte.csv\n",
      "\n",
      "Saving labeled videos...\n",
      "Loading cam1 and data.\n",
      "Loading cam2 and data.\n",
      "Loading cam3 and data.\n",
      "Loading cam4 and data.Loading cam5 and data.\n",
      "Loading cam6 and data.\n",
      "\n",
      "\n",
      "Duration of video: 3.23 s, recorded with 90.0 fps!\n",
      "Total frames: 291 with frame dimensions: 1920 x 1080\n",
      "\n",
      "Duration of video: 3.23 s, recorded with 90.0 fps!Generating frames and creating video...\n",
      "\n",
      "Total frames: 291 with frame dimensions: 1920 x 1080\n",
      "Duration of video: 3.23 s, recorded with 90.0 fps!\n",
      "Duration of video: 3.23 s, recorded with 90.0 fps!\n",
      "Duration of video: 3.23 s, recorded with 90.0 fps!\n",
      "\n",
      "\n",
      "Total frames: 291 with frame dimensions: 1920 x 1080\n"
     ]
    },
    {
     "name": "stderr",
     "output_type": "stream",
     "text": [
      "  0%|          | 0/291 [00:00<?, ? f/s]"
     ]
    },
    {
     "name": "stdout",
     "output_type": "stream",
     "text": [
      "Generating frames and creating video...\n",
      "Duration of video: 3.23 s, recorded with 90.0 fps!\n",
      "Total frames: 291 with frame dimensions: 1920 x 1080\n",
      "Total frames: 291 with frame dimensions: 1920 x 1080Generating frames and creating video...\n",
      "\n",
      "\n",
      "\n",
      "Generating frames and creating video...Total frames: 291 with frame dimensions: 1920 x 1080Generating frames and creating video...\n"
     ]
    },
    {
     "name": "stderr",
     "output_type": "stream",
     "text": [
      "  0%|          | 0/291 [00:00<?, ? f/s]"
     ]
    },
    {
     "name": "stdout",
     "output_type": "stream",
     "text": [
      "\n",
      "\n",
      "Generating frames and creating video..."
     ]
    },
    {
     "name": "stderr",
     "output_type": "stream",
     "text": [
      "  0%|          | 0/291 [00:00<?, ? f/s]"
     ]
    },
    {
     "name": "stdout",
     "output_type": "stream",
     "text": [
      "\n"
     ]
    },
    {
     "name": "stderr",
     "output_type": "stream",
     "text": [
      "100%|██████████| 291/291 [00:51<00:00,  5.70 f/s]\n",
      "100%|██████████| 291/291 [00:51<00:00,  5.68 f/s]\n",
      "100%|██████████| 291/291 [00:51<00:00,  5.67 f/s]\n",
      "100%|██████████| 291/291 [00:51<00:00,  5.67 f/s]\n",
      "100%|██████████| 291/291 [00:51<00:00,  5.67 f/s]\n",
      "100%|██████████| 291/291 [00:51<00:00,  5.67 f/s]\n",
      "2021-06-03T13:33:59.303 | INFO | pairwise_fte: Done\n"
     ]
    },
    {
     "name": "stdout",
     "output_type": "stream",
     "text": [
      "Done!\n",
      "\n"
     ]
    }
   ],
   "source": [
    "# Run the optimisation\n",
    "pairwise_fte.run(root_dir, data_path, start_frame, end_frame, dlc_thresh, generate_reprojection_videos=True, out_dir_prefix=\"/Users/zico/msc/dev/AcinoSet/data\")"
   ]
  },
  {
   "cell_type": "code",
   "execution_count": null,
   "metadata": {},
   "outputs": [],
   "source": [
    "# Compare the optimisation with previous results i.e. compare the output pickle file fte.pickle. This is a visual inspection.abs\n",
    "# orig_file = os.path.join(root_dir, data_path, \"fte\", \"fte.pickle\")\n",
    "pw_file = os.path.join(root_dir, data_path, \"fte_pw\", \"fte.pickle\")\n",
    "pairwise_fte.plot_cheetah(pw_file)\n",
    "# pairwise_fte.compare(orig_file, pw_file)"
   ]
  },
  {
   "cell_type": "code",
   "execution_count": null,
   "metadata": {},
   "outputs": [],
   "source": [
    "# DEBUB purposes - if you want to display particular frames to inspect the measurements that are incorporated in the optimisation process.\n",
    "# The camera to use.\n",
    "cam_num = 1\n",
    "# The measurements to display 1 - base prediction, 2 - 3 pairwise measurements. Max is 3.\n",
    "pw_values = (1, 2, 3)\n",
    "# Frame number to display.\n",
    "frame_num = 110\n",
    "pairwise_fte.display_test_image(data_dir, cam_num, pw_values, frame_num)"
   ]
  },
  {
   "cell_type": "code",
   "execution_count": null,
   "metadata": {},
   "outputs": [],
   "source": [
    "eval_dir = os.path.join(\"/Users/zico/msc/dev/AcinoSet/data\", data_path, \"fte_pw\")\n",
    "data = data_ops.load_pickle(os.path.join(eval_dir, \"fte.pickle\"))\n",
    "results_dir = os.path.join(eval_dir, \"evaluation\")\n",
    "os.makedirs(eval_dir, exist_ok=True)\n",
    "max_delta_acc = evaluate_fte.eval_delta_acc(data, results_dir)\n",
    "evaluate_fte.eval_model_error(data, results_dir)\n",
    "evaluate_fte.eval_meas_error(data, results_dir)\n",
    "Q = [ # model parameters variance\n",
    "        max_delta_acc[0], max_delta_acc[1], max_delta_acc[2], # x, y, z\n",
    "        max_delta_acc[3], max_delta_acc[6], 0, max_delta_acc[10], 0, 0, 0, 0, 0, 0, 0, 0, 0, 0, #  phi_1, ... , phi_14\n",
    "        max_delta_acc[4], max_delta_acc[7], max_delta_acc[9], max_delta_acc[11], max_delta_acc[13], max_delta_acc[15], max_delta_acc[17], max_delta_acc[18], max_delta_acc[19], max_delta_acc[20], max_delta_acc[21], max_delta_acc[22], max_delta_acc[23], max_delta_acc[24], # theta_1, ... , theta_n\n",
    "        max_delta_acc[5], max_delta_acc[8], 0, max_delta_acc[12], max_delta_acc[14], max_delta_acc[16], 0, 0, 0, 0, 0, 0, 0, 0, # psi_1, ... , psi_n\n",
    "    #     ?, ?, ? # lure's x, y, z variance\n",
    "    ]\n",
    "logger.info(Q)"
   ]
  },
  {
   "cell_type": "code",
   "execution_count": null,
   "metadata": {},
   "outputs": [],
   "source": [
    "fig_fpath = os.path.join(os.path.join(os.path.join(\"..\", \"data\"), data_path, \"fte_pw\"), 'fte.svg')\n",
    "pw_file = data_ops.load_pickle(os.path.join(os.path.join(\"..\", \"data\"), data_path, \"fte_pw\", \"fte.pickle\"))\n",
    "app.plot_cheetah_states(pw_file[\"x\"], out_fpath=fig_fpath)"
   ]
  },
  {
   "cell_type": "code",
   "execution_count": 20,
   "metadata": {},
   "outputs": [
    {
     "name": "stderr",
     "output_type": "stream",
     "text": [
      "/Users/zico/opt/anaconda3/envs/pypy/lib_pypy/_functools.py:80: MatplotlibDeprecationWarning: savefig() got unexpected keyword argument \"orientation\" which is no longer supported as of 3.3 and will become an error two minor releases later\n",
      "  return self._func(*(self._args + fargs), **fkeywords)\n"
     ]
    },
    {
     "data": {
      "image/png": "[encoded data removed]",
      "text/plain": [
       "<Figure size 432x288 with 1 Axes>"
      ]
     },
     "metadata": {
      "needs_background": "light"
     },
     "output_type": "display_data"
    }
   ],
   "source": [
    "pairwise_fte.plot_cost_functions()"
   ]
  },
  {
   "cell_type": "code",
   "execution_count": null,
   "metadata": {},
   "outputs": [],
   "source": []
  }
 ],
 "metadata": {
  "kernelspec": {
   "display_name": "Python [conda env:pypy]",
   "language": "python",
   "name": "conda-env-pypy-py"
  },
  "language_info": {
   "codemirror_mode": {
    "name": "ipython",
    "version": 3
   },
   "file_extension": ".py",
   "mimetype": "text/x-python",
   "name": "python",
   "nbconvert_exporter": "python",
   "pygments_lexer": "ipython3",
   "version": "3.7.10"
  },
  "metadata": {
   "interpreter": {
    "hash": "767d51c1340bd893661ea55ea3124f6de3c7a262a8b4abca0554b478b1e2ff90"
   }
  }
 },
 "nbformat": 4,
 "nbformat_minor": 4
}
