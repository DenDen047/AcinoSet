{
 "cells": [
  {
   "cell_type": "code",
   "execution_count": null,
   "metadata": {},
   "outputs": [],
   "source": [
    "import os\n",
    "from glob import glob\n",
    "\n",
    "import pairwise_fte\n",
    "from all_optimizations import ekf\n",
    "from lib.app import create_labeled_videos\n",
    "\n",
    "%load_ext autoreload\n",
    "%autoreload 2\n",
    "\n",
    "%matplotlib inline\n",
    "\n",
    "root_dir = os.path.join(\"..\", \"data\")\n",
    "# If you are running the code remotely on the Linux i9.\n",
    "# root_dir = os.path.join(\"/\",\"data\", \"dlc\", \"to_analyse\", \"cheetah_videos\")"
   ]
  },
  {
   "cell_type": "code",
   "execution_count": null,
   "metadata": {},
   "outputs": [],
   "source": [
    "# Generate the pose functions if this has not been done before (note this should only be performed once). It will be saved in the root_dir.\n",
    "functions = pairwise_fte.create_pose_functions(root_dir)"
   ]
  },
  {
   "cell_type": "code",
   "execution_count": null,
   "metadata": {},
   "outputs": [],
   "source": [
    "# Configurations for the optimisation.\n",
    "data_path = os.path.join(\"2017_09_02\", \"bottom\", \"jules\", \"run2\")\n",
    "start_frame = 100\n",
    "end_frame = 180\n",
    "dlc_thresh = 0.5"
   ]
  },
  {
   "cell_type": "code",
   "execution_count": null,
   "metadata": {
    "tags": [
     "outputPrepend"
    ]
   },
   "outputs": [],
   "source": [
    "# Run the optimisation\n",
    "pairwise_fte.run(root_dir, data_path, start_frame, end_frame, dlc_thresh, auto_frame_select=False)"
   ]
  },
  {
   "cell_type": "code",
   "execution_count": null,
   "metadata": {},
   "outputs": [],
   "source": [
    "# Create 2D reprojection videos.\n",
    "video_fpaths = sorted(glob(os.path.join(root_dir, data_path, \"cam[1-9].mp4\"))) # original vids should be in the parent dir\n",
    "create_labeled_videos(video_fpaths, out_dir=os.path.join(root_dir, data_path, \"fte_pw\"), draw_skeleton=True, pcutoff=dlc_thresh)"
   ]
  },
  {
   "cell_type": "code",
   "execution_count": null,
   "metadata": {},
   "outputs": [],
   "source": [
    "# Compare the optimisation with previous results i.e. compare the output pickle file fte.pickle. This is a visual inspection.abs\n",
    "orig_file = os.path.join(root_dir, data_path, \"ekf\", \"ekf.pickle\")\n",
    "pw_file = os.path.join(root_dir, data_path, \"fte_pw\", \"fte.pickle\")\n",
    "pairwise_fte.compare(orig_file, pw_file)"
   ]
  },
  {
   "cell_type": "code",
   "execution_count": null,
   "metadata": {},
   "outputs": [],
   "source": [
    "# DEBUB purposes - if you want to display particular frames to inspect the measurements that are incorporated in the optimisation process.\n",
    "# The camera to use.\n",
    "cam_num = 1\n",
    "# The measurements to display 1 - base prediction, 2 - 3 pairwise measurements. Max is 3.\n",
    "pw_values = (1, 2, 3)\n",
    "# Frame number to display.\n",
    "frame_num = 110\n",
    "pairwise_fte.display_test_image(data_dir, cam_num, pw_values, frame_num)"
   ]
  },
  {
   "cell_type": "code",
   "execution_count": null,
   "metadata": {},
   "outputs": [],
   "source": []
  }
 ],
 "metadata": {
  "kernelspec": {
   "display_name": "Python 3",
   "language": "python",
   "name": "python3"
  },
  "language_info": {
   "codemirror_mode": {
    "name": "ipython",
    "version": 3
   },
   "file_extension": ".py",
   "mimetype": "text/x-python",
   "name": "python",
   "nbconvert_exporter": "python",
   "pygments_lexer": "ipython3",
   "version": "3.9.1"
  },
  "metadata": {
   "interpreter": {
    "hash": "767d51c1340bd893661ea55ea3124f6de3c7a262a8b4abca0554b478b1e2ff90"
   }
  }
 },
 "nbformat": 4,
 "nbformat_minor": 4
}
